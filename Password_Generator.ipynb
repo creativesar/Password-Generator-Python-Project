{
  "nbformat": 4,
  "nbformat_minor": 0,
  "metadata": {
    "colab": {
      "provenance": [],
      "authorship_tag": "ABX9TyPFcJFhSRHwVeA32IYNtdCJ",
      "include_colab_link": true
    },
    "kernelspec": {
      "name": "python3",
      "display_name": "Python 3"
    },
    "language_info": {
      "name": "python"
    }
  },
  "cells": [
    {
      "cell_type": "markdown",
      "metadata": {
        "id": "view-in-github",
        "colab_type": "text"
      },
      "source": [
        "<a href=\"https://colab.research.google.com/github/creativesar/Password-Generator-Python-Project/blob/main/Password_Generator.ipynb\" target=\"_parent\"><img src=\"https://colab.research.google.com/assets/colab-badge.svg\" alt=\"Open In Colab\"/></a>"
      ]
    },
    {
      "cell_type": "code",
      "execution_count": null,
      "metadata": {
        "colab": {
          "base_uri": "https://localhost:8080/"
        },
        "id": "FtKJhO8vLYZA",
        "outputId": "d9c56970-adbd-44e0-f77c-82217a895efd"
      },
      "outputs": [
        {
          "output_type": "stream",
          "name": "stdout",
          "text": [
            "Password Generator\n",
            "=================\n"
          ]
        }
      ],
      "source": [
        "import random\n",
        "import string\n",
        "\n",
        "def get_yes_no_input(prompt):\n",
        "    \"\"\"Get a yes/no input from the user.\"\"\"\n",
        "    while True:\n",
        "        response = input(prompt + \" (y/n): \").lower().strip()\n",
        "        if response in ['y', 'yes']:\n",
        "            return True\n",
        "        elif response in ['n', 'no']:\n",
        "            return False\n",
        "        else:\n",
        "            print(\"Please enter 'y' or 'n'.\")\n",
        "\n",
        "def get_int_input(prompt, default=None, min_value=None):\n",
        "    \"\"\"Get an integer input from the user.\"\"\"\n",
        "    default_str = f\" (default: {default})\" if default is not None else \"\"\n",
        "    while True:\n",
        "        response = input(prompt + default_str + \": \").strip()\n",
        "        if response == \"\" and default is not None:\n",
        "            return default\n",
        "        try:\n",
        "            value = int(response)\n",
        "            if min_value is not None and value < min_value:\n",
        "                print(f\"Please enter a number greater than or equal to {min_value}.\")\n",
        "                continue\n",
        "            return value\n",
        "        except ValueError:\n",
        "            print(\"Please enter a valid number.\")\n",
        "\n",
        "def generate_password(length=12, use_lowercase=True, use_uppercase=True,\n",
        "                     use_digits=True, use_special_chars=True):\n",
        "    \"\"\"\n",
        "    Generate a random password with the specified options.\n",
        "\n",
        "    Args:\n",
        "        length (int): Length of the password to generate\n",
        "        use_lowercase (bool): Include lowercase letters\n",
        "        use_uppercase (bool): Include uppercase letters\n",
        "        use_digits (bool): Include digits\n",
        "        use_special_chars (bool): Include special characters\n",
        "\n",
        "    Returns:\n",
        "        str: A randomly generated password\n",
        "\n",
        "    Raises:\n",
        "        ValueError: If no character types are selected or length is less than 1\n",
        "    \"\"\"\n",
        "    if length < 1:\n",
        "        raise ValueError(\"Password length must be at least 1\")\n",
        "\n",
        "    # Build the character set based on selected options\n",
        "    chars = \"\"\n",
        "    if use_lowercase:\n",
        "        chars += string.ascii_lowercase\n",
        "    if use_uppercase:\n",
        "        chars += string.ascii_uppercase\n",
        "    if use_digits:\n",
        "        chars += string.digits\n",
        "    if use_special_chars:\n",
        "        chars += string.punctuation\n",
        "\n",
        "    if not chars:\n",
        "        raise ValueError(\"At least one character type must be selected\")\n",
        "\n",
        "    # Generate the password\n",
        "    password = ''.join(random.choice(chars) for _ in range(length))\n",
        "\n",
        "    # Ensure the password contains at least one character from each selected type\n",
        "    if length >= 4 and all([use_lowercase, use_uppercase, use_digits, use_special_chars]):\n",
        "        while (not any(c in string.ascii_lowercase for c in password) or\n",
        "               not any(c in string.ascii_uppercase for c in password) or\n",
        "               not any(c in string.digits for c in password) or\n",
        "               not any(c in string.punctuation for c in password)):\n",
        "            password = ''.join(random.choice(chars) for _ in range(length))\n",
        "\n",
        "    return password\n",
        "\n",
        "def main():\n",
        "    print(\"Password Generator\")\n",
        "    print(\"=================\")\n",
        "\n",
        "    # Get user preferences\n",
        "    length = get_int_input(\"Enter password length\", default=12, min_value=1)\n",
        "    use_lowercase = get_yes_no_input(\"Include lowercase letters?\")\n",
        "    use_uppercase = get_yes_no_input(\"Include uppercase letters?\")\n",
        "    use_digits = get_yes_no_input(\"Include digits?\")\n",
        "    use_special_chars = get_yes_no_input(\"Include special characters?\")\n",
        "    count = get_int_input(\"How many passwords to generate?\", default=1, min_value=1)\n",
        "\n",
        "    # Generate passwords\n",
        "    try:\n",
        "        print(\"\\nGenerated Passwords:\")\n",
        "        print(\"--------------------\")\n",
        "        for i in range(count):\n",
        "            password = generate_password(\n",
        "                length=length,\n",
        "                use_lowercase=use_lowercase,\n",
        "                use_uppercase=use_uppercase,\n",
        "                use_digits=use_digits,\n",
        "                use_special_chars=use_special_chars\n",
        "            )\n",
        "            print(f\"Password {i+1}: {password}\")\n",
        "    except ValueError as e:\n",
        "        print(f\"Error: {e}\")\n",
        "\n",
        "    print(\"\\nThank you for using Password Generator!\")\n",
        "\n",
        "if __name__ == \"__main__\":\n",
        "    main()"
      ]
    }
  ]
}